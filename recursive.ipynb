{
 "cells": [
  {
   "cell_type": "code",
   "execution_count": 1,
   "metadata": {},
   "outputs": [],
   "source": [
    "import numpy as np\n",
    "import tsplib95\n",
    "from python_tsp.distances.tsplib_distance import tsplib_distance_matrix\n",
    "\n",
    "dataset = \"data/xqf131.tsp\"\n",
    "\n",
    "initial_cities = np.atleast_2d(list(tsplib95.load(dataset).node_coords.values()))\n",
    "distance_matrix = tsplib_distance_matrix(dataset)"
   ]
  },
  {
   "cell_type": "code",
   "execution_count": 2,
   "metadata": {},
   "outputs": [],
   "source": [
    "def can_stop(CLUSTERS, min_size):\n",
    "    for c in CLUSTERS:\n",
    "        if len(c) <= min_size:\n",
    "            return True\n",
    "    return False"
   ]
  },
  {
   "cell_type": "code",
   "execution_count": 6,
   "metadata": {},
   "outputs": [],
   "source": [
    "from algo.get_clusters import get_clusters\n",
    "\n",
    "CLUSTERS, CENTROIDS = get_clusters(initial_cities, 5)"
   ]
  },
  {
   "cell_type": "code",
   "execution_count": 8,
   "metadata": {},
   "outputs": [
    {
     "data": {
      "text/plain": [
       "False"
      ]
     },
     "execution_count": 8,
     "metadata": {},
     "output_type": "execute_result"
    }
   ],
   "source": [
    "can_stop(CLUSTERS, 10)"
   ]
  },
  {
   "cell_type": "code",
   "execution_count": 5,
   "metadata": {},
   "outputs": [],
   "source": [
    "from algo.concatenate_all import concatenate_all\n",
    "\n",
    "result, centroid = concatenate_all(CLUSTERS, CENTROIDS)"
   ]
  },
  {
   "cell_type": "code",
   "execution_count": 18,
   "metadata": {},
   "outputs": [],
   "source": [
    "from algo.get_clusters import get_clusters\n",
    "from algo.concatenate_all import concatenate_all\n",
    "\n",
    "def solve_cluster_tsp(initial_cities, N_CLUSTERS = 8, MIN_SIZE = 10):\n",
    "\n",
    "    while True:\n",
    "        CLUSTERS, CENTROIDS = get_clusters(initial_cities, N_CLUSTERS)\n",
    "        # for idx, c in enumerate(CLUSTERS):\n",
    "            # print(idx, c)\n",
    "            \n",
    "        if can_stop(CLUSTERS, MIN_SIZE):\n",
    "            return concatenate_all(CLUSTERS, CENTROIDS)\n",
    "        \n",
    "        for cluster in CLUSTERS:\n",
    "            solve_cluster_tsp(cluster, N_CLUSTERS, MIN_SIZE)"
   ]
  },
  {
   "cell_type": "code",
   "execution_count": 19,
   "metadata": {},
   "outputs": [
    {
     "name": "stdout",
     "output_type": "stream",
     "text": [
      "[[ 57  25]\n",
      " [ 57  12]\n",
      " [ 48   6]\n",
      " [ 34   5]\n",
      " [ 33  15]\n",
      " [ 28  16]\n",
      " [ 25  15]\n",
      " [ 25  11]\n",
      " [ 25   9]\n",
      " [ 18  13]\n",
      " [ 18  11]\n",
      " [ 15   8]\n",
      " [ 12   5]\n",
      " [  8   0]\n",
      " [  2   0]\n",
      " [  5   8]\n",
      " [  0  13]\n",
      " [  5  19]\n",
      " [  5  13]\n",
      " [  9  10]\n",
      " [ 10  10]\n",
      " [ 11  10]\n",
      " [ 12  10]\n",
      " [ 15  13]\n",
      " [ 18  15]\n",
      " [ 18  17]\n",
      " [ 18  19]\n",
      " [ 15  19]\n",
      " [ 18  21]\n",
      " [ 18  23]\n",
      " [ 18  25]\n",
      " [ 15  25]\n",
      " [ 18  27]\n",
      " [ 18  33]\n",
      " [ 18  35]\n",
      " [ 18  37]\n",
      " [ 18  39]\n",
      " [ 18  41]\n",
      " [ 18  42]\n",
      " [ 18  44]\n",
      " [ 18  45]\n",
      " [ 15  43]\n",
      " [  5  43]\n",
      " [  0  39]\n",
      " [  5  37]\n",
      " [  0  27]\n",
      " [  0  26]\n",
      " [  5  25]\n",
      " [  5  31]\n",
      " [ 15  37]\n",
      " [ 15  31]\n",
      " [ 18  31]\n",
      " [ 18  29]\n",
      " [ 25  29]\n",
      " [ 28  30]\n",
      " [ 28  34]\n",
      " [ 28  40]\n",
      " [ 28  43]\n",
      " [ 28  47]\n",
      " [ 34  41]\n",
      " [ 34  38]\n",
      " [ 38  34]\n",
      " [ 41  36]\n",
      " [ 41  35]\n",
      " [ 41  34]\n",
      " [ 41  32]\n",
      " [ 38  30]\n",
      " [ 35  31]\n",
      " [ 34  31]\n",
      " [ 34  29]\n",
      " [ 34  26]\n",
      " [ 33  26]\n",
      " [ 32  26]\n",
      " [ 33  29]\n",
      " [ 33  31]\n",
      " [ 32  31]\n",
      " [ 28  28]\n",
      " [ 25  28]\n",
      " [ 25  26]\n",
      " [ 25  24]\n",
      " [ 25  23]\n",
      " [ 25  22]\n",
      " [ 28  20]\n",
      " [ 34  15]\n",
      " [ 35  17]\n",
      " [ 38  16]\n",
      " [ 38  20]\n",
      " [ 40  22]\n",
      " [ 41  23]\n",
      " [ 48  22]\n",
      " [ 48  27]\n",
      " [ 56  25]\n",
      " [ 64  22]\n",
      " [ 74  20]\n",
      " [ 74  16]\n",
      " [ 71  16]\n",
      " [ 71  13]\n",
      " [ 74  12]\n",
      " [ 71  11]\n",
      " [ 63   6]\n",
      " [ 74   6]\n",
      " [ 80   5]\n",
      " [ 84   6]\n",
      " [ 80  10]\n",
      " [ 79  10]\n",
      " [ 78  10]\n",
      " [ 81  17]\n",
      " [ 84  20]\n",
      " [ 84  24]\n",
      " [107  27]\n",
      " [ 84  29]\n",
      " [ 84  34]\n",
      " [ 84  38]\n",
      " [ 80  41]\n",
      " [ 79  37]\n",
      " [ 78  35]\n",
      " [ 78  39]\n",
      " [ 71  47]\n",
      " [ 61  47]\n",
      " [ 51  47]\n",
      " [ 51  45]\n",
      " [ 57  44]\n",
      " [ 61  45]\n",
      " [ 71  45]\n",
      " [ 74  39]\n",
      " [ 74  35]\n",
      " [ 74  29]\n",
      " [ 78  32]\n",
      " [ 79  33]\n",
      " [ 77  21]\n",
      " [ 74  24]]\n"
     ]
    }
   ],
   "source": [
    "result, _ = solve_cluster_tsp(initial_cities)\n",
    "print(result)"
   ]
  }
 ],
 "metadata": {
  "kernelspec": {
   "display_name": "Python 3",
   "language": "python",
   "name": "python3"
  },
  "language_info": {
   "codemirror_mode": {
    "name": "ipython",
    "version": 3
   },
   "file_extension": ".py",
   "mimetype": "text/x-python",
   "name": "python",
   "nbconvert_exporter": "python",
   "pygments_lexer": "ipython3",
   "version": "3.10.6"
  }
 },
 "nbformat": 4,
 "nbformat_minor": 2
}
